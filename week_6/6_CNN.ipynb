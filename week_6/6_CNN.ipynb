{
 "cells": [
  {
   "cell_type": "markdown",
   "metadata": {},
   "source": [
    "# Pythonopdracht week 6: CNN"
   ]
  },
  {
   "cell_type": "markdown",
   "metadata": {
    "toc": true
   },
   "source": [
    "<h1>Table of Contents<span class=\"tocSkip\"></span></h1>\n",
    "<div class=\"toc\"><ul class=\"toc-item\"><li><span><a href=\"#Loading-Images-from-Data-Set\" data-toc-modified-id=\"Loading-Images-from-Data-Set-1\"><span class=\"toc-item-num\">1&nbsp;&nbsp;</span>Loading Images from Data Set</a></span></li><li><span><a href=\"#Define-a-Convolutional-Neural-Network\" data-toc-modified-id=\"Define-a-Convolutional-Neural-Network-2\"><span class=\"toc-item-num\">2&nbsp;&nbsp;</span>Define a Convolutional Neural Network</a></span></li><li><span><a href=\"#Training-the-Network\" data-toc-modified-id=\"Training-the-Network-3\"><span class=\"toc-item-num\">3&nbsp;&nbsp;</span>Training the Network</a></span></li><li><span><a href=\"#Testing-the-Network\" data-toc-modified-id=\"Testing-the-Network-4\"><span class=\"toc-item-num\">4&nbsp;&nbsp;</span>Testing the Network</a></span></li><li><span><a href=\"#Improving-the-Network\" data-toc-modified-id=\"Improving-the-Network-5\"><span class=\"toc-item-num\">5&nbsp;&nbsp;</span>Improving the Network</a></span></li></ul></div>"
   ]
  },
  {
   "cell_type": "markdown",
   "metadata": {},
   "source": [
    "**For this notebook, you will both answer questions and do some programming. Please write answes in green in the given Answer cells. Please write code where instructed.**\n",
    "\n",
    "This notebook is an adaptation of a demo notebook in the Pytorch documentation. Please be patient while running the code in the notebook. I haven't used any GPU that might be available on your computer. Training two epochs on my computer takes more than a minute (yes not too fast...).\n",
    "\n",
    "In order to run the code you need to install pytorch on your system. The modules `torch` and `torchvision` should be installed. See the [PyTorch](https://pytorch.org/) website how to install Pytorch on your machine.\n",
    "\n",
    "The [PyTorch](https://pytorch.org/) website is invaluable for understanding the code in this notebook. And it is a great source for further exploration of modern Machine Learning."
   ]
  },
  {
   "cell_type": "code",
   "execution_count": 30,
   "metadata": {},
   "outputs": [],
   "source": [
    "import torch\n",
    "import torchvision\n",
    "import torchvision.transforms as transforms\n",
    "import torch.nn as nn\n",
    "import torch.nn.functional as F\n",
    "import torch.optim as optim\n",
    "\n",
    "import matplotlib.pyplot as plt\n",
    "import numpy as np"
   ]
  },
  {
   "cell_type": "code",
   "execution_count": 31,
   "metadata": {},
   "outputs": [
    {
     "name": "stdout",
     "output_type": "stream",
     "text": [
      "CUDA used\n"
     ]
    }
   ],
   "source": [
    "device = None; \n",
    "# device = torch.device('cpu') # uncomment this line to explicitly set the device\n",
    "if device == None:\n",
    "    if torch.cuda.is_available():\n",
    "        print(\"CUDA used\")\n",
    "        device = torch.device('cuda')\n",
    "    else:\n",
    "        print(\"CPU used\")\n",
    "        device = torch.device('cpu')"
   ]
  },
  {
   "cell_type": "markdown",
   "metadata": {},
   "source": [
    "## Loading Images from the Data Set"
   ]
  },
  {
   "cell_type": "markdown",
   "metadata": {},
   "source": [
    "PyTorch has some well known data sets 'build in', among others the CIFAR data set. In the code below we download (if needed) and read in the data set. In the process of defining the train and test set PyTorch allows us to transform the images on the fly. In this case we only convert the image to a tensor (the basic PyTorch data structure comparable with the ndarray in numpy) and we normalize the image (by subtracting 0.5 from each rgb value in the image and dividing by 0.5, as each image has rgb values in the range from 0 to 1 we end up with values in the range from -1 to +1). Normalization of the data is important in any neural network."
   ]
  },
  {
   "cell_type": "markdown",
   "metadata": {},
   "source": [
    "PyTorch loads a dataset into separate train and test sets. First we define the trainset."
   ]
  },
  {
   "cell_type": "code",
   "execution_count": 32,
   "metadata": {},
   "outputs": [
    {
     "name": "stderr",
     "output_type": "stream",
     "text": [
      "100.0%\n"
     ]
    },
    {
     "name": "stdout",
     "output_type": "stream",
     "text": [
      "Dataset CIFAR10\n",
      "    Number of datapoints: 50000\n",
      "    Root location: ./data\n",
      "    Split: Train\n",
      "    StandardTransform\n",
      "Transform: Compose(\n",
      "               ToTensor()\n",
      "               Normalize(mean=(0.5, 0.5, 0.5), std=(0.5, 0.5, 0.5))\n",
      "           )\n"
     ]
    }
   ],
   "source": [
    "# Uncomment the following lines if you get a SSL certificate error to disable the verification.\n",
    "# import ssl\n",
    "# ssl._create_default_https_context = ssl._create_unverified_context (edited) \n",
    "\n",
    "transform = transforms.Compose([\n",
    "    transforms.ToTensor(),\n",
    "    transforms.Normalize((0.5, 0.5, 0.5), (0.5, 0.5, 0.5))\n",
    "])\n",
    "trainset = torchvision.datasets.CIFAR10(root='./data', \n",
    "                                        train=True, \n",
    "                                        download=True, \n",
    "                                        transform=transform)\n",
    "print(trainset)"
   ]
  },
  {
   "cell_type": "markdown",
   "metadata": {},
   "source": [
    "The trainset has an attribute ``data`` that contains the entire datamatrix in a numpy array."
   ]
  },
  {
   "cell_type": "code",
   "execution_count": 33,
   "metadata": {},
   "outputs": [
    {
     "data": {
      "text/plain": [
       "(50000, 32, 32, 3)"
      ]
     },
     "execution_count": 33,
     "metadata": {},
     "output_type": "execute_result"
    }
   ],
   "source": [
    "trainset.data.shape"
   ]
  },
  {
   "cell_type": "markdown",
   "metadata": {},
   "source": [
    "i.e. 50000 images of 32x32 pixels each with an R, G and B value."
   ]
  },
  {
   "cell_type": "markdown",
   "metadata": {},
   "source": [
    "Also the labels are encoded in a simple Python list"
   ]
  },
  {
   "cell_type": "code",
   "execution_count": 34,
   "metadata": {},
   "outputs": [
    {
     "data": {
      "text/plain": [
       "50000"
      ]
     },
     "execution_count": 34,
     "metadata": {},
     "output_type": "execute_result"
    }
   ],
   "source": [
    "len(trainset.targets)"
   ]
  },
  {
   "cell_type": "markdown",
   "metadata": {},
   "source": [
    "The target values are indices from 0 to 9 and the corresponding class names are encoded in the following list:"
   ]
  },
  {
   "cell_type": "code",
   "execution_count": 35,
   "metadata": {},
   "outputs": [
    {
     "name": "stdout",
     "output_type": "stream",
     "text": [
      "['airplane', 'automobile', 'bird', 'cat', 'deer', 'dog', 'frog', 'horse', 'ship', 'truck']\n"
     ]
    }
   ],
   "source": [
    "classnames = trainset.classes\n",
    "print(classnames)"
   ]
  },
  {
   "cell_type": "markdown",
   "metadata": {},
   "source": [
    "In pure Python/Numpy we can now display one of the images with the target class name as title for the plot:"
   ]
  },
  {
   "cell_type": "code",
   "execution_count": 36,
   "metadata": {},
   "outputs": [
    {
     "data": {
      "image/png": "[encoded data removed]",
      "text/plain": [
       "<Figure size 640x480 with 1 Axes>"
      ]
     },
     "metadata": {},
     "output_type": "display_data"
    }
   ],
   "source": [
    "i = 66\n",
    "plt.imshow(trainset.data[i])\n",
    "plt.axis('off')\n",
    "plt.title(classnames[trainset.targets[i]]);"
   ]
  },
  {
   "cell_type": "markdown",
   "metadata": {},
   "source": [
    "Later on we will define a ``DataLoader`` that makes it easy to load a small number of (image, target) tuples (a batch) needed in one gradient descent step in the stochastic gradient learning process. While loading the data the data in the dataset is transformed on the fly. For this dataset two transforms are used in sequence. First the ``ToTensor`` transform that takes an HxWxC (with C=3) numpy array into a PyTorch tensor of shape CxHxW which is the standard for encoding color images in deep learning. The second transform in the sequence is a normalization (see the PyTorch documentation for ``torchvision.transforms.Normalize``)."
   ]
  },
  {
   "cell_type": "markdown",
   "metadata": {},
   "source": [
    "<span style=\"color:red\">**Question 1.1**</span>.\n",
    "\n",
    "Given the normalization ``Normalize((0.5, 0.5, 0.5), (0.5, 0.5, 0.5))`` and an original color value (r,g,b) what is the normalized color value (r',g',b')? What do all those values 0.5 represent?"
   ]
  },
  {
   "cell_type": "markdown",
   "metadata": {},
   "source": [
    "<span style=\"color:Green\">\n",
    "    \n",
    "**Answer**\n",
    "\n",
    "If we take rewrite ``Normalize((0.5, 0.5, 0.5), (0.5, 0.5, 0.5))`` as ``Normalize((m_1, m_2, m_3), (std_1, std_2, std_3))`` then the values 0.5 represent the following:\n",
    "\n",
    "$r' = \\frac{r - m_1}{std_1}$\n",
    "\n",
    "$g' = \\frac{g - m_2}{std_2}$\n",
    "\n",
    "$b' = \\frac{b - m_3}{std_3}$\n",
    "\n",
    "</span>"
   ]
  },
  {
   "cell_type": "markdown",
   "metadata": {},
   "source": [
    "In the same way we define and load the testset:"
   ]
  },
  {
   "cell_type": "code",
   "execution_count": 37,
   "metadata": {},
   "outputs": [],
   "source": [
    "testset = torchvision.datasets.CIFAR10(root='./data', \n",
    "                                       train=False, \n",
    "                                       download=True, \n",
    "                                       transform=transform)"
   ]
  },
  {
   "cell_type": "markdown",
   "metadata": {},
   "source": [
    "Then we define a DataLoader for both the train and testset. When defining a DataLoader we have to give the `batch_size` as argument for the class constructor. A DataLoader, being a Python iterable, makes it possible to retrieve batch_size arbitrary images from the data set."
   ]
  },
  {
   "cell_type": "code",
   "execution_count": 38,
   "metadata": {},
   "outputs": [],
   "source": [
    "batch_size = 4\n",
    "trainloader = torch.utils.data.DataLoader(trainset, \n",
    "                                          batch_size=batch_size, \n",
    "                                          shuffle=True, \n",
    "                                          num_workers=2)\n",
    "testloader = torch.utils.data.DataLoader(testset, \n",
    "                                         batch_size=batch_size, \n",
    "                                         shuffle=False, \n",
    "                                         num_workers=2)"
   ]
  },
  {
   "cell_type": "markdown",
   "metadata": {},
   "source": [
    "## Displaying Tensor Images"
   ]
  },
  {
   "cell_type": "markdown",
   "metadata": {},
   "source": [
    "For displaying 'tensor images' we provide two helper functions:"
   ]
  },
  {
   "cell_type": "code",
   "execution_count": 57,
   "metadata": {},
   "outputs": [
    {
     "data": {
      "image/png": "[encoded data removed]",
      "text/plain": [
       "<Figure size 1600x400 with 4 Axes>"
      ]
     },
     "metadata": {},
     "output_type": "display_data"
    }
   ],
   "source": [
    "def imshow(img, ax=None):\n",
    "    \"\"\"imshow for Tensor Images obtained with a DataLoader\n",
    "    from a data set. The images are of shape (3,M,N)\n",
    "    and are in the range from -1 to +1\"\"\"\n",
    "    img = (img - img.min()) / (img.max()-img.min())     # unnormalize\n",
    "    npimg = img.numpy()\n",
    "    if ax==None:\n",
    "        plt.imshow(np.transpose(npimg, (1, 2, 0)))\n",
    "    else:\n",
    "        ax.imshow(np.transpose(npimg, (1, 2, 0)))\n",
    "        \n",
    "def imtable(imgs, titles, ncols, hsize=4, vsize=4):\n",
    "    nrows = int(np.ceil(len(imgs)/ncols))\n",
    "    fig, axs = plt.subplots(nrows, ncols, figsize=(ncols*hsize, nrows*vsize))\n",
    "    r, c = 0, 0\n",
    "    for i, (im, label) in enumerate(zip(imgs, titles)):\n",
    "        if nrows==1:\n",
    "            ax = axs[c]\n",
    "        elif ncols==1:\n",
    "            ax = axs[r]\n",
    "        else:\n",
    "            ax = axs[r,c]\n",
    "        imshow(im, ax=ax)\n",
    "        ax.set_title(titles[i])\n",
    "        ax.axis('off')\n",
    "        c += 1\n",
    "        if c == ncols:\n",
    "            r += 1\n",
    "            c = 0\n",
    "    plt.tight_layout()\n",
    "        \n",
    "# get some random training images\n",
    "dataiter = iter(trainloader)\n",
    "images, labels = next(dataiter)\n",
    "imtable(images, [classnames[i] for i in labels], 4)\n"
   ]
  },
  {
   "cell_type": "code",
   "execution_count": 59,
   "metadata": {},
   "outputs": [
    {
     "name": "stdout",
     "output_type": "stream",
     "text": [
      "5000\n",
      "5000\n",
      "5000\n",
      "5000\n",
      "5000\n",
      "5000\n",
      "5000\n",
      "5000\n",
      "5000\n",
      "5000\n"
     ]
    }
   ],
   "source": [
    "for i in range(10):\n",
    "    print(len([x for x in trainset.targets if x == i]))"
   ]
  },
  {
   "cell_type": "markdown",
   "metadata": {},
   "source": [
    "<span style=\"color:red\">**Question 1.2**</span>.\n",
    "\n",
    "If you would be random guessing the class of an image what would be the expected accuracy of the 'classifier'?"
   ]
  },
  {
   "cell_type": "markdown",
   "metadata": {},
   "source": [
    "<span style=\"color:Green\">\n",
    "    \n",
    "**Answer**\n",
    "\n",
    "Considering that each class is equally represented, as can be seen above, a random guess has a 10% chance of being correct, so the expected accuracy of the 'classifier' would be 0.1\n",
    "    \n",
    "</span>"
   ]
  },
  {
   "cell_type": "markdown",
   "metadata": {},
   "source": [
    "## Define a Convolutional Neural Network"
   ]
  },
  {
   "cell_type": "markdown",
   "metadata": {},
   "source": [
    "We define the following CNN to classify the CIFAR images. Observe that first the functional processing blocks in the CNN are instantiated in the ``__init__`` function and then used in the ``forward`` method implementing the forward pass from input to output of the network.\n",
    "\n",
    "The backpropagation pass to calculate the derivatives of the loss with respect to the data throughout the network is automagically done by PyTorch. Only when you as a programmer introduce new functional processing blocks you have to implement the backward pass yourself."
   ]
  },
  {
   "cell_type": "code",
   "execution_count": 86,
   "metadata": {},
   "outputs": [],
   "source": [
    "class Net(nn.Module):\n",
    "    def __init__(self, verbose=0):\n",
    "        super().__init__()\n",
    "        self.conv1 = nn.Conv2d(3, 10, 5)\n",
    "        self.pool1 = nn.MaxPool2d(2, 2)\n",
    "        self.conv2 = nn.Conv2d(10, 16, 5)\n",
    "        self.pool2 = nn.MaxPool2d(2, 2)\n",
    "        self.fc1 = nn.Linear(16 * 5 * 5, 120)\n",
    "        self.fc2 = nn.Linear(120, 84)\n",
    "        self.fc3 = nn.Linear(84, 10)\n",
    "        self.verbose = verbose\n",
    "        \n",
    "    def forward(self, x):\n",
    "        # Note in the forward pass we have 'numbered'\n",
    "        # the x's just to make it easier to collect\n",
    "        # the code to print information about the network\n",
    "        # further on in the code.\n",
    "        x1a = self.conv1(x)\n",
    "        x1 = self.pool1(F.relu(x1a))\n",
    "        x2 = self.pool2(F.relu(self.conv2(x1)))\n",
    "        x3 = torch.flatten(x2, 1) # flatten all dimensions except batch\n",
    "        x4 = F.relu(self.fc1(x3))\n",
    "        x5 = F.relu(self.fc2(x4))\n",
    "        x6 = self.fc3(x5)\n",
    "            \n",
    "        if self.verbose:\n",
    "            # Write the code to print the properties of the \n",
    "            # different stages in the CNN\n",
    "            # Your code here\n",
    "            self.verbose -= 1\n",
    "        \n",
    "        return x6\n",
    "\n",
    "# with verbose=1 the 'debugging' code is printed only once \n",
    "# while running the forward pass multiple times.\n",
    "net = Net(verbose=1).to(device=device)"
   ]
  },
  {
   "cell_type": "markdown",
   "metadata": {},
   "source": [
    "Given the class definition for a network we can print an instantiation of that class to obtain an overview of the functional processing blocks that are defined. Note that the ``relu`` and ``flatten`` functions are not printed (but they are in the flow of processing blocks)."
   ]
  },
  {
   "cell_type": "code",
   "execution_count": 41,
   "metadata": {},
   "outputs": [
    {
     "name": "stdout",
     "output_type": "stream",
     "text": [
      "Net(\n",
      "  (conv1): Conv2d(3, 10, kernel_size=(5, 5), stride=(1, 1))\n",
      "  (pool1): MaxPool2d(kernel_size=2, stride=2, padding=0, dilation=1, ceil_mode=False)\n",
      "  (conv2): Conv2d(10, 16, kernel_size=(5, 5), stride=(1, 1))\n",
      "  (pool2): MaxPool2d(kernel_size=2, stride=2, padding=0, dilation=1, ceil_mode=False)\n",
      "  (fc1): Linear(in_features=400, out_features=120, bias=True)\n",
      "  (fc2): Linear(in_features=120, out_features=84, bias=True)\n",
      "  (fc3): Linear(in_features=84, out_features=10, bias=True)\n",
      ")\n"
     ]
    }
   ],
   "source": [
    "print(net)"
   ]
  },
  {
   "cell_type": "markdown",
   "metadata": {},
   "source": [
    "Note that the shapes of the data that is processed at all layers in the network is not printed. That is where we need 'your code' in the ``Net`` class.\n",
    "\n",
    "The code below sets the verbose attribute of the ``Net`` instantiation to 1 and then feeds it a batch of images. The output is printed, which is not needed of course as it will be total nonsense as nothing is learned yet.\n",
    "\n",
    "It should be noted that PyTorch automagically takes care of proper initialization of the parameters of each of the processing modules in the network. If you want to you can override the default initialization (read the docs for that)."
   ]
  },
  {
   "cell_type": "code",
   "execution_count": 87,
   "metadata": {},
   "outputs": [
    {
     "name": "stdout",
     "output_type": "stream",
     "text": [
      "tensor([[ 0.0527, -0.0190,  0.0128, -0.0650,  0.0933,  0.0543, -0.0788, -0.0713,\n",
      "          0.0899,  0.1719],\n",
      "        [ 0.0552, -0.0228,  0.0029, -0.0733,  0.0909,  0.0632, -0.0803, -0.0771,\n",
      "          0.0798,  0.1714],\n",
      "        [ 0.0484, -0.0315,  0.0066, -0.0744,  0.0852,  0.0503, -0.0853, -0.0682,\n",
      "          0.0991,  0.1897],\n",
      "        [ 0.0442, -0.0285,  0.0114, -0.0738,  0.0876,  0.0547, -0.0804, -0.0743,\n",
      "          0.1037,  0.1923]], device='cuda:0', grad_fn=<AddmmBackward0>)\n"
     ]
    }
   ],
   "source": [
    "net.verbose=1 # when you run it you should set this to 1\n",
    "images, labels = next(dataiter)\n",
    "images = images.to(device)\n",
    "labels = labels.to(device)\n",
    "outputs = net(images)\n",
    "print(outputs)"
   ]
  },
  {
   "cell_type": "markdown",
   "metadata": {},
   "source": [
    "With the printed information you ought to be able to answer the following questions:"
   ]
  },
  {
   "cell_type": "markdown",
   "metadata": {},
   "source": [
    "In a data graph the first part of this network looks like\n",
    "<img src=\"https://rvdboomgaard.github.io/ComputerVision_LectureNotes/_static/cifar_cnn_incomplete.png\"\n",
    "     width=80%\n",
    "     alt=\"data flow graph\"\n",
    "     style=\"float: center;\" />\n",
    "\n",
    "The CIFAR images are 32x32 color images, so $W_1 = H_1 = 32$ and $C_1 = 3$. \n",
    "\n",
    "Observe that in this common way to depict a CNN the blocks that are drawn corresponds with the data, the arrows correspond with the data processing modules. E.g. the first arrow corresponds with the sequence Conv1 --> ReLU --> Maxpool modules. \n",
    "\n",
    "The last data block in this CNN is a vector of 10 elements where each element equals the activation for one of the 10 classes. This last layer is obtained with a fully connected neural network from the layer before that which is also a vector but with 84 elements.\n",
    "\n",
    "Note that if you want to know what the data shape is after just the first or second convolution you have to change the code in the ``forward`` method."
   ]
  },
  {
   "cell_type": "markdown",
   "metadata": {},
   "source": [
    "<span style=\"color:red\">**Question 2.1**</span>\n",
    "\n",
    "If you print the shape of tensor ``x`` in the ``forward`` method you will get ``torch.Size([4, 3, 32, 32])``. Why is the first dimension of size 4 in this tensor? Note that this size is NOT depicted in the above graph!"
   ]
  },
  {
   "cell_type": "markdown",
   "metadata": {},
   "source": [
    "<span style=\"color:Green\">\n",
    "    \n",
    "**Answer**\n",
    "\n",
    "This first dimension of size 4 is the batch size.\n",
    "    \n",
    "</span>"
   ]
  },
  {
   "cell_type": "markdown",
   "metadata": {},
   "source": [
    "<span style=\"color:red\">**Question 2.2**</span>\n",
    "\n",
    "What is the shape of the tensor that results from ``conv1(x)``? What does it tell you about the convolution/correlation algorithm that is used? To find this experimentally you have to change the code in the ``forward`` method."
   ]
  },
  {
   "cell_type": "markdown",
   "metadata": {},
   "source": [
    "<span style=\"color:Green\">\n",
    "    \n",
    "**Answer**\n",
    "\n",
    "The shape we get is ``torch.Size([4, 10, 28, 28])``, this shows us that the convolution algorithm used does not use padding around the edges, which means that, due to our $5 \\times 5$ convolution, pixels in the 2 edge layers will be discarded (although they still live on in those pixels that used their information in the convolution layer).\n",
    "    \n",
    "</span>"
   ]
  },
  {
   "cell_type": "markdown",
   "metadata": {},
   "source": [
    "<span style=\"color:red\">**Question 2.3**</span>\n",
    "\n",
    "Complete the data graph. For each of data block (image blocks at the start and flattened arrays at the end) you should indicate the shape of the block. The blocks correspond with the tensors `x`, `x1` ... `x6` in the `forward` method. Either you should look into the documentation of the processing modules that are being used in the `__init__` function or you should run the code and print the shapes (when we are running/training the network)."
   ]
  },
  {
   "cell_type": "markdown",
   "metadata": {},
   "source": [
    "<span style=\"color:Green\">\n",
    "    \n",
    "$C_1 = 3, H_1 = 32, W_1 = 32$\n",
    "\n",
    "$\\downarrow$ ``pool1`` $\\circ$ ``conv1``\n",
    "\n",
    "$C_2 = 10, H_2 = 14, W_2 = 14$\n",
    "\n",
    "$\\downarrow$ ``pool2`` $\\circ$ ``conv2``\n",
    "\n",
    "$C_3 = 16, H_3 = 5, W_3 = 5$\n",
    "\n",
    "$\\downarrow$\n",
    "\n",
    "$C_4 = 1, H_4 = 400, W_4 = 1$\n",
    "\n",
    "$\\downarrow$ ``fc1``\n",
    "\n",
    "$C_5 = 1, H_5 = 120, W_5 = 1$\n",
    "\n",
    "$\\downarrow$  ``fc2``\n",
    "\n",
    "$C_6 = 1, H_6 = 84, W_6 = 1$\n",
    "\n",
    "$\\downarrow$ ``fc3``\n",
    "\n",
    "$C_7 = 1, H_7 = 10, W_7 = 1$\n",
    "    \n",
    "    \n",
    "</span>"
   ]
  },
  {
   "cell_type": "markdown",
   "metadata": {},
   "source": [
    "<span style=\"color:red\">**Question 2.4**</span>\n",
    "\n",
    "In the `__init__` function the following processing modules are defined: `conv1`, `pool1`, `conv2`, `pool2`, `fc1`, `fc2` and `fc3`. Indicate where these modules are used in your data flow graph (i.e. you have to label the arrows in the graph with the (sequence of) operations associated with each arrow."
   ]
  },
  {
   "cell_type": "markdown",
   "metadata": {},
   "source": [
    "<span style=\"color:Green\">\n",
    "    \n",
    "**Answer**\n",
    "\n",
    "See the graph above\n",
    "    \n",
    "</span>"
   ]
  },
  {
   "cell_type": "markdown",
   "metadata": {},
   "source": [
    "<span style=\"color:red\">**Question 2.5**</span>\n",
    "\n",
    "For each of processing modules `conv1`, `pool1`, `conv2`, `pool2`, `fc1`, `fc2` and `fc3` give the number of parameters that have to be learned (don't forget the bias parameters...)"
   ]
  },
  {
   "cell_type": "markdown",
   "metadata": {},
   "source": [
    "<span style=\"color:Green\">\n",
    "    \n",
    "**Answer**\n",
    "\n",
    "``conv1``: $10$ filters of size $5 \\times 5 \\times 3$ with 1 bias parameter for each output layer results in $10 \\cdot 5 \\cdot 5 \\cdot 3 + 10 = 760$ parameters.\n",
    "\n",
    "``pool1``: Does not have any parameters\n",
    "\n",
    "``conv2``: $16$ filters of size $5 \\times 5 \\times 10$ with 1 bias parameter for each output layer results in $16 \\cdot 5 \\cdot 5 \\cdot 10 + 16 = 4016$ parameters.\n",
    "\n",
    "``pool2``: Does not have any parameters\n",
    "\n",
    "``fc1``: One weight parameter for each pair (input node, output node) and one bias parameter for each output node results in $400 * 120 + 120 = 48120$ parameters.\n",
    "\n",
    "``fc2``: One weight parameter for each pair (input node, output node) and one bias parameter for each output node results in $120 * 84 + 84 = 10164$ parameters.\n",
    "\n",
    "``fc3``: One weight parameter for each pair (input node, output node) and one bias parameter for each output node results in $84 * 10 + 10 = 850$ parameters.\n",
    "    \n",
    "</span>"
   ]
  },
  {
   "cell_type": "markdown",
   "metadata": {},
   "source": [
    "**HINT**: The answer to question 2.5 can be computed by 'interrogating' the network. For instance for the `fc2` linear module we get:"
   ]
  },
  {
   "cell_type": "markdown",
   "metadata": {},
   "source": [
    "The answer to the last question from the above cell can be computed by 'interrogating' the network. For instance for the `fc2` linear module we get:"
   ]
  },
  {
   "cell_type": "code",
   "execution_count": 43,
   "metadata": {},
   "outputs": [
    {
     "name": "stdout",
     "output_type": "stream",
     "text": [
      "torch.Size([84, 120])\n",
      "torch.Size([84])\n"
     ]
    }
   ],
   "source": [
    "for p in net.fc2.parameters():\n",
    "    print(p.shape)"
   ]
  },
  {
   "cell_type": "markdown",
   "metadata": {},
   "source": [
    "So for this module there are two tensors defining the parameters. Note that an object of type `torch.Size` is not a tensor"
   ]
  },
  {
   "cell_type": "markdown",
   "metadata": {},
   "source": [
    "<span style=\"color:red\">**Question 2.6**</span>\n",
    "\n",
    "What are these tensors? (please look back in your machine learning course notes)."
   ]
  },
  {
   "cell_type": "markdown",
   "metadata": {},
   "source": [
    "<span style=\"color:Green\">\n",
    "    \n",
    "**Answer**\n",
    "These tensors are just N dimensional arrays, the PyTorch equivalent of Numpy's ndarray.\n",
    "    \n",
    "</span>"
   ]
  },
  {
   "cell_type": "markdown",
   "metadata": {},
   "source": [
    "<span style=\"color:red\">**Question 2.7**</span>\n",
    "\n",
    "How many parameters in total for this `fc2` module?"
   ]
  },
  {
   "cell_type": "markdown",
   "metadata": {},
   "source": [
    "<span style=\"color:Green\">\n",
    "    \n",
    "**Answer**\n",
    "As said above, the ``fc2`` module has 10164 total parameters.\n",
    "    \n",
    "</span>"
   ]
  },
  {
   "cell_type": "markdown",
   "metadata": {},
   "source": [
    "Below you have to write the code to calculate the total number of parameters to be learned in this network."
   ]
  },
  {
   "cell_type": "code",
   "execution_count": 92,
   "metadata": {},
   "outputs": [
    {
     "name": "stdout",
     "output_type": "stream",
     "text": [
      "63910\n"
     ]
    }
   ],
   "source": [
    "# Write the code to calculate the total number of parameters in the entire network\n",
    "# Your code here\n",
    "modules = [net.conv1, net.conv2, net.fc1, net.fc2, net.fc3]\n",
    "\n",
    "parameters = 0\n",
    "for module in modules:\n",
    "    for p in module.parameters():\n",
    "        current = 0\n",
    "        for dimension in p.shape:\n",
    "            if current == 0:\n",
    "                current = dimension\n",
    "            else:\n",
    "                current *= dimension\n",
    "        parameters += current\n",
    "print(parameters)"
   ]
  },
  {
   "cell_type": "markdown",
   "metadata": {},
   "source": [
    "Later on in this notebook we revisit the interrogation of the network again to actually observe what parameter values are learned."
   ]
  },
  {
   "cell_type": "markdown",
   "metadata": {},
   "source": [
    "## Loss Function and Optimizer"
   ]
  },
  {
   "cell_type": "markdown",
   "metadata": {},
   "source": [
    "To train the network we also need to define a loss function:"
   ]
  },
  {
   "cell_type": "code",
   "execution_count": 45,
   "metadata": {},
   "outputs": [],
   "source": [
    "loss_criterion = nn.CrossEntropyLoss()"
   ]
  },
  {
   "cell_type": "markdown",
   "metadata": {},
   "source": [
    "When the network is fed input the output is obtained with ``outputs = net(inputs)``, then the outputs are compared with the target values (labels in our case) with the `CrossEntropyLoss` function. Read the PyTorch documentation to learn why this loss is well suited for a classification problem (and why the softmax function is not needed in this network).\n",
    "\n",
    "Observe that although the output of the network is a 10 element vector (activation for each of the different classes) the target value is an integer id for the target class. The conversion to one-hot-encoding is implicitly done within the loss function (see the source code)."
   ]
  },
  {
   "cell_type": "markdown",
   "metadata": {},
   "source": [
    "We also need an optimizer. A standard optimizer is PyTorch is the SGD (Stochastic Gradient Descent) optimizer."
   ]
  },
  {
   "cell_type": "code",
   "execution_count": 46,
   "metadata": {},
   "outputs": [],
   "source": [
    "optimizer = optim.SGD(net.parameters(), lr=0.001, momentum=0.9, dampening=0)"
   ]
  },
  {
   "cell_type": "markdown",
   "metadata": {},
   "source": [
    "here `lr` is the learning rate. The momentum is used in the gradient descent procedure to 'remember' in which direction the gradient descent is running and not deviate too easily from that direction."
   ]
  },
  {
   "cell_type": "markdown",
   "metadata": {},
   "source": [
    "<span style=\"color:red\">**Question 2.8**</span>\n",
    "\n",
    "Read the explanation of the SGD optimizer in the PyTorch documentation.\n",
    "1. Why the name **stochastic** gradient descent?\n",
    "2. What value for the ``momemtum`` and `dampening` should be chosen to get the classical gradient descent?"
   ]
  },
  {
   "cell_type": "markdown",
   "metadata": {},
   "source": [
    "<span style=\"color:Green\">\n",
    "    \n",
    "**Answer**\n",
    "    \n",
    "    \n",
    "</span>"
   ]
  },
  {
   "cell_type": "markdown",
   "metadata": {},
   "source": [
    "## Training the Network"
   ]
  },
  {
   "cell_type": "markdown",
   "metadata": {},
   "source": [
    "Training the network using a variant of the gradient descent algorithm boils down to:\n",
    "1. feed a minibatch of examples to the network\n",
    "2. run the forward pass, i.e. calculate the output through all its intermediate processing modules)\n",
    "3. set all gradients (derivative of the loss with respect to all parameters) equal to zero\n",
    "4. calculate the backward pass (to calculate all gradients\n",
    "5. for each of the parameters make a step in the right direction and adapt the parameters accordingly.\n",
    "\n",
    "This process is repeated until the minibatches have fed all examples in the training set to the learning algorithm. That completex one **epoch** in learning. Then this process is repeated until a specified number of epochs is done.\n",
    "\n",
    "In the learning process we keep track of the loss on the learning set and the loss on the test set both of which are calculated after each epoch. To have some indication whether the network is learning during an epoch we also report the loss over the last batches fed to the netword for learning.\n",
    "\n",
    "One epoch of learning is encaptured in the `train_loop` function"
   ]
  },
  {
   "cell_type": "code",
   "execution_count": 47,
   "metadata": {},
   "outputs": [],
   "source": [
    "def train_loop(dataloader, model, loss_fn, optimizer, no_report=1000, device=None):\n",
    "    size = len(dataloader.dataset)\n",
    "    for batch, (X, y) in enumerate(dataloader):\n",
    "        # Move the data to GPU (if available)\n",
    "        X = X.to(device)\n",
    "        y = y.to(device)\n",
    "        # Compute prediction and loss\n",
    "        pred = model(X)\n",
    "        loss = loss_fn(pred, y)\n",
    "\n",
    "        # Backpropagation\n",
    "        optimizer.zero_grad()\n",
    "        loss.backward()\n",
    "        optimizer.step()\n",
    "\n",
    "        if batch % no_report == 0:\n",
    "            loss, current = loss.item(), batch * len(X)\n",
    "            print(f\"loss: {loss:>7f}  [{current:>5d}/{size:>5d}]\")\n",
    "            \n",
    "        "
   ]
  },
  {
   "cell_type": "markdown",
   "metadata": {},
   "source": [
    "While learning for several epochs we also calculate the performance on the test or validation set. This is encoded in the function `test_loop`."
   ]
  },
  {
   "cell_type": "code",
   "execution_count": 48,
   "metadata": {},
   "outputs": [],
   "source": [
    "def test_loop(dataloader, model, loss_fn, device=None):\n",
    "    size = len(dataloader.dataset)\n",
    "    num_batches = len(dataloader)\n",
    "    test_loss, correct = 0, 0\n",
    "\n",
    "    with torch.no_grad():\n",
    "        for X, y in dataloader:\n",
    "            X = X.to(device)\n",
    "            y = y.to(device)\n",
    "            pred = model(X)\n",
    "            test_loss += loss_fn(pred, y).item()\n",
    "            correct += (pred.argmax(1) == y).type(torch.float).sum().item()\n",
    "\n",
    "    test_loss /= num_batches\n",
    "    correct /= size\n",
    "    print(f\"Test Error: \\n Accuracy: {(100*correct):>0.1f}%, Avg loss: {test_loss:>8f} \\n\")"
   ]
  },
  {
   "cell_type": "markdown",
   "metadata": {},
   "source": [
    "The learning process then becomes:"
   ]
  },
  {
   "cell_type": "code",
   "execution_count": 49,
   "metadata": {},
   "outputs": [
    {
     "name": "stdout",
     "output_type": "stream",
     "text": [
      "Epoch 1\n",
      "-------------------------------\n",
      "loss: 2.299716  [    0/50000]\n",
      "loss: 2.126942  [ 4000/50000]\n",
      "loss: 1.949029  [ 8000/50000]\n",
      "loss: 2.058188  [12000/50000]\n",
      "loss: 1.568625  [16000/50000]\n",
      "loss: 1.557567  [20000/50000]\n",
      "loss: 2.986372  [24000/50000]\n",
      "loss: 1.529701  [28000/50000]\n",
      "loss: 1.454002  [32000/50000]\n",
      "loss: 1.948531  [36000/50000]\n",
      "loss: 0.919566  [40000/50000]\n",
      "loss: 1.278483  [44000/50000]\n",
      "loss: 1.664565  [48000/50000]\n",
      "Test Error: \n",
      " Accuracy: 48.4%, Avg loss: 1.412665 \n",
      "\n",
      "Epoch 2\n",
      "-------------------------------\n",
      "loss: 0.702361  [    0/50000]\n",
      "loss: 1.784004  [ 4000/50000]\n",
      "loss: 1.596111  [ 8000/50000]\n",
      "loss: 1.582439  [12000/50000]\n",
      "loss: 2.219834  [16000/50000]\n",
      "loss: 0.925548  [20000/50000]\n",
      "loss: 0.738882  [24000/50000]\n",
      "loss: 1.468028  [28000/50000]\n",
      "loss: 1.451707  [32000/50000]\n",
      "loss: 1.657703  [36000/50000]\n",
      "loss: 0.696933  [40000/50000]\n",
      "loss: 2.003519  [44000/50000]\n",
      "loss: 1.789826  [48000/50000]\n",
      "Test Error: \n",
      " Accuracy: 55.7%, Avg loss: 1.251253 \n",
      "\n",
      "Epoch 3\n",
      "-------------------------------\n",
      "loss: 0.715436  [    0/50000]\n",
      "loss: 1.538603  [ 4000/50000]\n",
      "loss: 1.001006  [ 8000/50000]\n",
      "loss: 1.148046  [12000/50000]\n",
      "loss: 0.976183  [16000/50000]\n",
      "loss: 0.556573  [20000/50000]\n",
      "loss: 1.529478  [24000/50000]\n",
      "loss: 0.867112  [28000/50000]\n",
      "loss: 1.319093  [32000/50000]\n",
      "loss: 1.385269  [36000/50000]\n",
      "loss: 1.306953  [40000/50000]\n",
      "loss: 1.268494  [44000/50000]\n",
      "loss: 0.796210  [48000/50000]\n",
      "Test Error: \n",
      " Accuracy: 59.0%, Avg loss: 1.182334 \n",
      "\n",
      "Epoch 4\n",
      "-------------------------------\n",
      "loss: 0.850226  [    0/50000]\n",
      "loss: 1.537880  [ 4000/50000]\n",
      "loss: 1.350250  [ 8000/50000]\n",
      "loss: 1.282155  [12000/50000]\n",
      "loss: 1.288718  [16000/50000]\n",
      "loss: 1.558408  [20000/50000]\n",
      "loss: 0.996613  [24000/50000]\n",
      "loss: 2.308532  [28000/50000]\n",
      "loss: 2.329997  [32000/50000]\n",
      "loss: 0.975866  [36000/50000]\n",
      "loss: 1.653225  [40000/50000]\n",
      "loss: 1.837542  [44000/50000]\n",
      "loss: 0.765734  [48000/50000]\n",
      "Test Error: \n",
      " Accuracy: 60.0%, Avg loss: 1.132837 \n",
      "\n",
      "Epoch 5\n",
      "-------------------------------\n",
      "loss: 0.356472  [    0/50000]\n",
      "loss: 0.677330  [ 4000/50000]\n",
      "loss: 0.940582  [ 8000/50000]\n",
      "loss: 1.232219  [12000/50000]\n",
      "loss: 0.241518  [16000/50000]\n",
      "loss: 0.618129  [20000/50000]\n",
      "loss: 1.469081  [24000/50000]\n",
      "loss: 2.467347  [28000/50000]\n",
      "loss: 0.998312  [32000/50000]\n",
      "loss: 0.240636  [36000/50000]\n",
      "loss: 0.697386  [40000/50000]\n",
      "loss: 0.485056  [44000/50000]\n",
      "loss: 0.326556  [48000/50000]\n",
      "Test Error: \n",
      " Accuracy: 63.5%, Avg loss: 1.054509 \n",
      "\n",
      "Done!\n",
      "1min 49s ± 0 ns per loop (mean ± std. dev. of 1 run, 1 loop each)\n"
     ]
    }
   ],
   "source": [
    "%%timeit -n1 -r1\n",
    "epochs = 5\n",
    "for t in range(epochs):\n",
    "    print(f\"Epoch {t+1}\\n-------------------------------\")\n",
    "    train_loop(trainloader, net, loss_criterion, optimizer, device=device)\n",
    "    test_loop(testloader, net, loss_criterion, device=device)\n",
    "print(\"Done!\")"
   ]
  },
  {
   "cell_type": "code",
   "execution_count": null,
   "metadata": {},
   "outputs": [],
   "source": [
    "# Uncomment the following 2 lines to save your network to file\n",
    "# PATH = './cifar_net_100e.pth'\n",
    "# torch.save(net.state_dict(), PATH)\n",
    "#\n",
    "# when saved you can load it back into memory with\n",
    "# (again uncomment the following 2 lines)\n",
    "#net = Net().to(device)\n",
    "#net.load_state_dict(torch.load(PATH))"
   ]
  },
  {
   "cell_type": "markdown",
   "metadata": {},
   "source": [
    "We load some images from the test set, display these image with their ground truth label. "
   ]
  },
  {
   "cell_type": "code",
   "execution_count": 51,
   "metadata": {},
   "outputs": [
    {
     "data": {
      "image/png": "[encoded data removed]",
      "text/plain": [
       "<Figure size 1600x400 with 4 Axes>"
      ]
     },
     "metadata": {},
     "output_type": "display_data"
    }
   ],
   "source": [
    "dataiter = iter(testloader)\n",
    "images, labels = next(dataiter)\n",
    "imtable(images, [classnames[i] for i in labels], 4)"
   ]
  },
  {
   "cell_type": "markdown",
   "metadata": {},
   "source": [
    "Then we run these image through the network and print the outputs of the 10 output nodes for all images. Note that now we are not training the network Pytorch doesn't need to keep track of all the intermediate outputs of all modules in the network (in preparation of a backward pass) and we can tell Pytorch not to do that with `no_grad()`."
   ]
  },
  {
   "cell_type": "markdown",
   "metadata": {},
   "source": [
    "While learning we didn't use the `softmax` function (see the PyTorch documentation) that normalizes the output for the 10 classes such that the a posteriori class probability if modeled (that would not be what the loss function expects). Now we are using the network in the feed forward mode only we will apply the softmax function."
   ]
  },
  {
   "cell_type": "code",
   "execution_count": 52,
   "metadata": {},
   "outputs": [
    {
     "name": "stdout",
     "output_type": "stream",
     "text": [
      "[[1.25964580e-04 2.31477621e-04 1.49223884e-03 8.20490837e-01\n",
      "  4.01851139e-04 8.71695876e-02 8.58462155e-02 4.74147004e-04\n",
      "  3.33252293e-03 4.35156602e-04]\n",
      " [1.18927054e-01 4.27629828e-01 7.01098470e-05 1.49263360e-05\n",
      "  3.69249096e-06 7.19513821e-07 3.57682239e-07 2.17275806e-06\n",
      "  3.95843476e-01 5.75077832e-02]\n",
      " [6.67345226e-02 3.35738361e-01 6.76389970e-03 8.06786306e-03\n",
      "  1.79780391e-03 1.21648051e-03 7.01281358e-04 1.17479824e-03\n",
      "  4.52033401e-01 1.25771478e-01]\n",
      " [9.25676584e-01 6.73863222e-04 1.55184437e-02 9.97327152e-04\n",
      "  9.49890260e-03 1.13723305e-04 2.81721936e-04 9.15887213e-05\n",
      "  4.46648337e-02 2.48304196e-03]]\n"
     ]
    }
   ],
   "source": [
    "with torch.no_grad():\n",
    "    outputs = F.softmax(net(images.to(device)), dim=-1)\n",
    "npoutputs = outputs.cpu().numpy()\n",
    "print(npoutputs)"
   ]
  },
  {
   "cell_type": "markdown",
   "metadata": {},
   "source": [
    "The predicted label will be the label with the largest output value."
   ]
  },
  {
   "cell_type": "code",
   "execution_count": 53,
   "metadata": {},
   "outputs": [
    {
     "name": "stdout",
     "output_type": "stream",
     "text": [
      "True     :         cat       ship       ship   airplane\n",
      "Predicted:         cat automobile       ship   airplane\n"
     ]
    }
   ],
   "source": [
    "maxvalue, maxindex = torch.max(outputs, 1)\n",
    "print('True     : ', ' '.join('%10s' % classnames[labels[j]]\n",
    "                              for j in range(batch_size)))\n",
    "print('Predicted: ', ' '.join('%10s' % classnames[maxindex[j]]\n",
    "                              for j in range(batch_size)))"
   ]
  },
  {
   "cell_type": "markdown",
   "metadata": {},
   "source": [
    "For such a small set of test images we run into the possibility that the classification is very bad. Let's test the network more carefully."
   ]
  },
  {
   "cell_type": "markdown",
   "metadata": {},
   "source": [
    "## Inspecting the Network"
   ]
  },
  {
   "cell_type": "markdown",
   "metadata": {},
   "source": [
    "In general it is really hard to understand what a (convolutional) neural network is doing. What do the learned weights represent? The answer to that question is still largely unknown. There are several papers that describe what particular nodes in the network are responsive to. These methods are beyond the scope of a bachelor course.\n",
    "\n",
    "An exception is the first layer in a CNN. The convolutions there directly operate on the (color) image data and like we are used to in computer vision the convolution kernels (weigh functions) can be visualized as images themselves.\n",
    "\n",
    "The hypothesis in developing CNN's was that local structure in images carries the spatial information needed to interpret the images. So when visualizing the kernels from the first convolution layer we hope to see the network has learned to respond to all sorts of local structure patterns.\n",
    "\n",
    "These patterns are then in layers downwards in the datastream combined to recognize larger structures in images."
   ]
  },
  {
   "cell_type": "markdown",
   "metadata": {},
   "source": [
    "Your task is to visualize the kernels in the first convolution module `conv1` as small images."
   ]
  },
  {
   "cell_type": "code",
   "execution_count": 54,
   "metadata": {},
   "outputs": [],
   "source": [
    "# Here the code to visualize the kernels\n",
    "# Your code here"
   ]
  },
  {
   "cell_type": "markdown",
   "metadata": {},
   "source": [
    "## Improving the Network"
   ]
  },
  {
   "cell_type": "markdown",
   "metadata": {},
   "source": [
    "Selecting a network architecture for a CNN is more of an art than a science. Simple experimenting with different number of channels, with different number of (convolution) layers can sometimes improve your network."
   ]
  },
  {
   "cell_type": "markdown",
   "metadata": {},
   "source": [
    "<span style=\"color:red\">**Question 5.1**</span>\n",
    "\n",
    "1. The obvious way to start improving your network is by training for more epochs. Only 2 epochs is really not much (but you need a fast computer or a GPU or a lot of patience). But you should be able to increase the number of epochs from 2 to 10 when you run the learning at night.\n",
    "\n",
    "1. Change the number of channels in the first data (image) block after the input image (a block with 3 channels) from 10 to 20 and train and run the network again. Does it improve the performance? Again start with 2 epochs of learning.\n",
    "\n",
    "1. Change the size of the convolution kernels in the `conv1` module from 5 to 3. Again start with 2 epochs of learning."
   ]
  },
  {
   "cell_type": "markdown",
   "metadata": {},
   "source": [
    "<span style=\"color:Green\">\n",
    "    \n",
    "**Answer**\n",
    "    \n",
    "    \n",
    "</span>"
   ]
  },
  {
   "cell_type": "markdown",
   "metadata": {},
   "source": [
    "## Bonus Exercises"
   ]
  },
  {
   "cell_type": "markdown",
   "metadata": {},
   "source": [
    "- The speed of learning can be dramaticall improved by moving the entire dataset to the gpu (in case you have enough RAM on the gpu). I had a hard time to achieve that. If you can find an elegant way without the need to rewrite the data loaders i would be very interested.\n",
    "\n",
    "- When you can learn faster or have a faster machine or have more time you could learn for a lot of epochs (say 100) and then plot the loss and accuracy for both the train and test set as a function of the number of epochs. That may provide you with evidence that the network is overfitting and thus that some regularization techniques might be neededn. This is suggested by the webpages describing learning for the same dataset but then implemented in Keras/Tensorflow (see https://machinelearningmastery.com/how-to-develop-a-cnn-from-scratch-for-cifar-10-photo-classification/). There the loss and accuracy as function of the number of epochs is shown as (in yellow the testset scores and in blue the trainset scores):\n",
    "<img src=\"https://rvdboomgaard.github.io/ComputerVision_LectureNotes/_static/cifar_overfitting.png\"\n",
    "     width=50%\n",
    "     alt=\"data flow graph\"\n",
    "     style=\"float: center;\" />\n",
    "The network used was very much like the one that has been used in this lab.\n",
    "\n",
    "- In the above mentioned paper using Keras/Tensorflow the problem over overfitting was succesfully mitigated using DropOut's in the network. It would be nice to see if you can do the same for our network."
   ]
  }
 ],
 "metadata": {
  "kernelspec": {
   "display_name": "Python 3 (ipykernel)",
   "language": "python",
   "name": "python3"
  },
  "language_info": {
   "codemirror_mode": {
    "name": "ipython",
    "version": 3
   },
   "file_extension": ".py",
   "mimetype": "text/x-python",
   "name": "python",
   "nbconvert_exporter": "python",
   "pygments_lexer": "ipython3",
   "version": "3.12.3"
  },
  "latex_envs": {
   "LaTeX_envs_menu_present": true,
   "autoclose": false,
   "autocomplete": true,
   "bibliofile": "biblio.bib",
   "cite_by": "apalike",
   "current_citInitial": 1,
   "eqLabelWithNumbers": true,
   "eqNumInitial": 1,
   "hotkeys": {
    "equation": "Ctrl-E",
    "itemize": "Ctrl-I"
   },
   "labels_anchors": false,
   "latex_user_defs": false,
   "report_style_numbering": true,
   "user_envs_cfg": false
  },
  "toc": {
   "base_numbering": 1,
   "nav_menu": {},
   "number_sections": true,
   "sideBar": true,
   "skip_h1_title": true,
   "title_cell": "Table of Contents",
   "title_sidebar": "Contents",
   "toc_cell": true,
   "toc_position": {},
   "toc_section_display": true,
   "toc_window_display": true
  }
 },
 "nbformat": 4,
 "nbformat_minor": 4
}
